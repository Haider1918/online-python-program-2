{
 "cells": [
  {
   "cell_type": "code",
   "execution_count": 1,
   "id": "8c488b10",
   "metadata": {},
   "outputs": [
    {
     "name": "stdout",
     "output_type": "stream",
     "text": [
      "Twinkle, twinkle, little star,\n",
      "         How I wonder what you are!\n",
      "                Up above the world so high,\n",
      "                Like a diamond in the sky.\n",
      "Twinkle, twinkle, little star,\n",
      "         How I wonder what you are\n"
     ]
    }
   ],
   "source": [
    "print (\"Twinkle, twinkle, little star,\\n         How I wonder what you are!\\n                Up above the world so high,\\n                Like a diamond in the sky.\\nTwinkle, twinkle, little star,\\n         How I wonder what you are\");"
   ]
  },
  {
   "cell_type": "code",
   "execution_count": 2,
   "id": "d2fa7204",
   "metadata": {},
   "outputs": [
    {
     "name": "stdout",
     "output_type": "stream",
     "text": [
      "3.9.7 (default, Sep 16 2021, 16:59:28) [MSC v.1916 64 bit (AMD64)]\n"
     ]
    }
   ],
   "source": [
    "import sys\n",
    "print(sys.version);"
   ]
  },
  {
   "cell_type": "code",
   "execution_count": 3,
   "id": "341399ed",
   "metadata": {},
   "outputs": [
    {
     "name": "stdout",
     "output_type": "stream",
     "text": [
      "2021-12-30\n"
     ]
    }
   ],
   "source": [
    "from datetime import date\n",
    "todaysdate=date.today()\n",
    "print(todaysdate)"
   ]
  },
  {
   "cell_type": "code",
   "execution_count": null,
   "id": "9eb62240",
   "metadata": {},
   "outputs": [],
   "source": [
    "import math\n",
    "radius=float(input(\"enter radius\"));\n",
    "area = math.pi *(radius*radius)\n",
    "print(\"area of circle is : \",area);"
   ]
  },
  {
   "cell_type": "code",
   "execution_count": null,
   "id": "edfe8d12",
   "metadata": {},
   "outputs": [],
   "source": [
    "firstname=input(\"enter first name \")\n",
    "lastname=input(\"enter last name \")\n",
    "print(f\"{lastname} {firstname}\")"
   ]
  },
  {
   "cell_type": "code",
   "execution_count": null,
   "id": "75dd24cf",
   "metadata": {},
   "outputs": [],
   "source": [
    "x=float(input(\"Enter input A  : \"));   \n",
    "y=float(input(\"Enter input B  : \"));  \n",
    "print(x+y);"
   ]
  },
  {
   "cell_type": "code",
   "execution_count": null,
   "id": "b2c18bae",
   "metadata": {},
   "outputs": [],
   "source": []
  }
 ],
 "metadata": {
  "kernelspec": {
   "display_name": "Python 3 (ipykernel)",
   "language": "python",
   "name": "python3"
  },
  "language_info": {
   "codemirror_mode": {
    "name": "ipython",
    "version": 3
   },
   "file_extension": ".py",
   "mimetype": "text/x-python",
   "name": "python",
   "nbconvert_exporter": "python",
   "pygments_lexer": "ipython3",
   "version": "3.9.7"
  }
 },
 "nbformat": 4,
 "nbformat_minor": 5
}
